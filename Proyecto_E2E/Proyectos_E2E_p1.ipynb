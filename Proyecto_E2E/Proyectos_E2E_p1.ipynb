{
 "metadata": {
  "language_info": {
   "codemirror_mode": {
    "name": "ipython",
    "version": 3
   },
   "file_extension": ".py",
   "mimetype": "text/x-python",
   "name": "python",
   "nbconvert_exporter": "python",
   "pygments_lexer": "ipython3",
   "version": "3.7.6-final"
  },
  "orig_nbformat": 2,
  "kernelspec": {
   "name": "python3",
   "display_name": "Python 3",
   "language": "python"
  }
 },
 "nbformat": 4,
 "nbformat_minor": 2,
 "cells": [
  {
   "source": [
    "## PASO 1: Plantear la pregunta.\n",
    "        ¿Puede predecirse el consumo energético de un país en función de su población y su nivel de industrialización?\n",
    "## PASOS 2 y 3: Concretar y buscar los datos necesarios.\n",
    "        Cargamos los ficheros .csv utilizando las librerías y funciones correspondientes.           "
   ],
   "cell_type": "markdown",
   "metadata": {}
  },
  {
   "cell_type": "code",
   "execution_count": 1,
   "metadata": {},
   "outputs": [],
   "source": [
    "import pandas as pd\n",
    "\n",
    "#Ficheros de datos\n",
    "pop_den = pd.read_csv(\"Datos\\\\population_density.csv\")\n",
    "urb_gro = pd.read_csv(\"Datos\\\\urban_growth.csv\")\n",
    "pop = pd.read_csv(\"Datos\\\\population.csv\")\n",
    "pop_gro = pd.read_csv(\"Datos\\\\population_growth.csv\")\n",
    "life_exp = pd.read_csv(\"Datos\\\\life_expectancy.csv\")\n",
    "co2_emi = pd.read_csv(\"Datos\\\\co2_emissions.csv\")\n",
    "energy_ratio = pd.read_csv(\"Datos\\\\energy_person_ratio.csv\")\n",
    "\n",
    "#La estimación del consumo energético de un país lo haremos en función del ratio energético por persona, cuyos datos se reflejan en el último fichero."
   ]
  },
  {
   "source": [
    "## PASOS 4 y 5: Limpieza y exploración de los datos..\n",
    "        1) Transponemos las tablas utilizando la función data.melt_df().\n",
    "        2) Juntamos las tablas mediante la función data.merge_all(), describiendo nuestro propio diccionario.\n",
    "        3) Visualizamos la información básica de nuestra tabla global mediante las funciones .head() y .describe() "
   ],
   "cell_type": "markdown",
   "metadata": {}
  },
  {
   "cell_type": "code",
   "execution_count": 2,
   "metadata": {},
   "outputs": [],
   "source": [
    "import data #data es una librería de funciones propias que nos permiten unir y transponer los dataframes anteriores de manera fácil y rápida (Si quieres profundizar, abre el fichero data.py) \n",
    "pop_den_melt = data.melt_df(pop_den, \"population_density\")\n",
    "urb_gro_melt = data.melt_df(urb_gro, \"urban_growth\")\n",
    "pop_melt = data.melt_df(pop, \"population\")\n",
    "pop_gro_melt = data.melt_df(pop_gro, \"population_growth\")\n",
    "co2_emi_melt = data.melt_df(co2_emi, \"co2_emissions\")\n",
    "life_exp_melt = data.melt_df(life_exp, \"life_expectancy\")\n",
    "\n",
    "energy_ratio_melt = data.melt_df(energy_ratio, \"energy_ratio\")"
   ]
  },
  {
   "cell_type": "code",
   "execution_count": 3,
   "metadata": {},
   "outputs": [
    {
     "output_type": "execute_result",
     "data": {
      "text/plain": [
       "                population_density  urban_growth  population  \\\n",
       "country_year                                                   \n",
       "Australia_1961                1.36       0.02490  10400000.0   \n",
       "Austria_1961                 86.30       0.00694   7110000.0   \n",
       "Belgium_1961                305.00       0.00434   9230000.0   \n",
       "Canada_1961                   2.01       0.02880  18200000.0   \n",
       "Denmark_1961                109.00       0.01680   4610000.0   \n",
       "\n",
       "                population_growth  co2_emissions  life_expectancy  \\\n",
       "country_year                                                        \n",
       "Australia_1961              1.990           8.67             71.4   \n",
       "Austria_1961                0.548           4.48             70.0   \n",
       "Belgium_1961                0.332          10.10             70.6   \n",
       "Canada_1961                 2.000          10.60             71.3   \n",
       "Denmark_1961                0.698           6.88             72.3   \n",
       "\n",
       "                energy_ratio  \n",
       "country_year                  \n",
       "Australia_1961        3120.0  \n",
       "Austria_1961          1550.0  \n",
       "Belgium_1961          2570.0  \n",
       "Canada_1961           4310.0  \n",
       "Denmark_1961          2020.0  "
      ],
      "text/html": "<div>\n<style scoped>\n    .dataframe tbody tr th:only-of-type {\n        vertical-align: middle;\n    }\n\n    .dataframe tbody tr th {\n        vertical-align: top;\n    }\n\n    .dataframe thead th {\n        text-align: right;\n    }\n</style>\n<table border=\"1\" class=\"dataframe\">\n  <thead>\n    <tr style=\"text-align: right;\">\n      <th></th>\n      <th>population_density</th>\n      <th>urban_growth</th>\n      <th>population</th>\n      <th>population_growth</th>\n      <th>co2_emissions</th>\n      <th>life_expectancy</th>\n      <th>energy_ratio</th>\n    </tr>\n    <tr>\n      <th>country_year</th>\n      <th></th>\n      <th></th>\n      <th></th>\n      <th></th>\n      <th></th>\n      <th></th>\n      <th></th>\n    </tr>\n  </thead>\n  <tbody>\n    <tr>\n      <th>Australia_1961</th>\n      <td>1.36</td>\n      <td>0.02490</td>\n      <td>10400000.0</td>\n      <td>1.990</td>\n      <td>8.67</td>\n      <td>71.4</td>\n      <td>3120.0</td>\n    </tr>\n    <tr>\n      <th>Austria_1961</th>\n      <td>86.30</td>\n      <td>0.00694</td>\n      <td>7110000.0</td>\n      <td>0.548</td>\n      <td>4.48</td>\n      <td>70.0</td>\n      <td>1550.0</td>\n    </tr>\n    <tr>\n      <th>Belgium_1961</th>\n      <td>305.00</td>\n      <td>0.00434</td>\n      <td>9230000.0</td>\n      <td>0.332</td>\n      <td>10.10</td>\n      <td>70.6</td>\n      <td>2570.0</td>\n    </tr>\n    <tr>\n      <th>Canada_1961</th>\n      <td>2.01</td>\n      <td>0.02880</td>\n      <td>18200000.0</td>\n      <td>2.000</td>\n      <td>10.60</td>\n      <td>71.3</td>\n      <td>4310.0</td>\n    </tr>\n    <tr>\n      <th>Denmark_1961</th>\n      <td>109.00</td>\n      <td>0.01680</td>\n      <td>4610000.0</td>\n      <td>0.698</td>\n      <td>6.88</td>\n      <td>72.3</td>\n      <td>2020.0</td>\n    </tr>\n  </tbody>\n</table>\n</div>"
     },
     "metadata": {},
     "execution_count": 3
    }
   ],
   "source": [
    "#Describimos un objeto tipo diccionario feature_dict, que usaremos como argumento en la función data.merge_all()\n",
    "feature_dict = {\"pop_den_melt\":pop_den_melt, \"urb_gro_melt\": urb_gro_melt, \"pop_melt\": pop_melt, \"pop_gro_melt\": pop_gro_melt, \"co2_emi_melt\": co2_emi_melt, \"life_exp_melt\": life_exp_melt, \"energy_ratio\":energy_ratio_melt}\n",
    "\n",
    "merged_data = data.merge_all(feature_dict = feature_dict, keys = [\"country\", \"year\"]).reset_index(drop=True)\n",
    "\n",
    "\n",
    "#Unimos Pais+Año tomandoló como indice del DataFrame\n",
    "merged_data[\"country_year\"] = merged_data[\"country\"] + \"_\" + merged_data[\"year\"]\n",
    "merged_data.set_index(\"country_year\", inplace = True)\n",
    "merged_data.drop(columns=[\"country\", \"year\"], inplace = True)\n",
    "merged_data.head()"
   ]
  },
  {
   "cell_type": "code",
   "execution_count": 4,
   "metadata": {},
   "outputs": [
    {
     "output_type": "execute_result",
     "data": {
      "text/plain": [
       "       population_density  urban_growth    population  population_growth  \\\n",
       "count         5880.000000   5880.000000  5.880000e+03        5880.000000   \n",
       "mean           151.510255      0.025590  4.028536e+07           1.651167   \n",
       "std            467.544295      0.022368  1.336053e+08           1.616812   \n",
       "min              1.240000     -0.065100  5.450000e+04          -9.080000   \n",
       "25%             21.800000      0.009955  3.700000e+06           0.584000   \n",
       "50%             65.800000      0.022500  9.825000e+06           1.510000   \n",
       "75%            128.000000      0.038400  2.972500e+07           2.532500   \n",
       "max           7890.000000      0.178000  1.400000e+09          17.600000   \n",
       "\n",
       "       co2_emissions  life_expectancy  energy_ratio  \n",
       "count    5880.000000      5880.000000   5880.000000  \n",
       "mean        5.871009        68.819014   2242.902859  \n",
       "std         7.943471         8.406140   2630.882603  \n",
       "min         0.004650        32.500000      9.550000  \n",
       "25%         0.838500        63.900000    505.750000  \n",
       "50%         3.360000        70.900000   1180.000000  \n",
       "75%         8.170000        74.800000   3040.000000  \n",
       "max        87.700000        84.200000  22100.000000  "
      ],
      "text/html": "<div>\n<style scoped>\n    .dataframe tbody tr th:only-of-type {\n        vertical-align: middle;\n    }\n\n    .dataframe tbody tr th {\n        vertical-align: top;\n    }\n\n    .dataframe thead th {\n        text-align: right;\n    }\n</style>\n<table border=\"1\" class=\"dataframe\">\n  <thead>\n    <tr style=\"text-align: right;\">\n      <th></th>\n      <th>population_density</th>\n      <th>urban_growth</th>\n      <th>population</th>\n      <th>population_growth</th>\n      <th>co2_emissions</th>\n      <th>life_expectancy</th>\n      <th>energy_ratio</th>\n    </tr>\n  </thead>\n  <tbody>\n    <tr>\n      <th>count</th>\n      <td>5880.000000</td>\n      <td>5880.000000</td>\n      <td>5.880000e+03</td>\n      <td>5880.000000</td>\n      <td>5880.000000</td>\n      <td>5880.000000</td>\n      <td>5880.000000</td>\n    </tr>\n    <tr>\n      <th>mean</th>\n      <td>151.510255</td>\n      <td>0.025590</td>\n      <td>4.028536e+07</td>\n      <td>1.651167</td>\n      <td>5.871009</td>\n      <td>68.819014</td>\n      <td>2242.902859</td>\n    </tr>\n    <tr>\n      <th>std</th>\n      <td>467.544295</td>\n      <td>0.022368</td>\n      <td>1.336053e+08</td>\n      <td>1.616812</td>\n      <td>7.943471</td>\n      <td>8.406140</td>\n      <td>2630.882603</td>\n    </tr>\n    <tr>\n      <th>min</th>\n      <td>1.240000</td>\n      <td>-0.065100</td>\n      <td>5.450000e+04</td>\n      <td>-9.080000</td>\n      <td>0.004650</td>\n      <td>32.500000</td>\n      <td>9.550000</td>\n    </tr>\n    <tr>\n      <th>25%</th>\n      <td>21.800000</td>\n      <td>0.009955</td>\n      <td>3.700000e+06</td>\n      <td>0.584000</td>\n      <td>0.838500</td>\n      <td>63.900000</td>\n      <td>505.750000</td>\n    </tr>\n    <tr>\n      <th>50%</th>\n      <td>65.800000</td>\n      <td>0.022500</td>\n      <td>9.825000e+06</td>\n      <td>1.510000</td>\n      <td>3.360000</td>\n      <td>70.900000</td>\n      <td>1180.000000</td>\n    </tr>\n    <tr>\n      <th>75%</th>\n      <td>128.000000</td>\n      <td>0.038400</td>\n      <td>2.972500e+07</td>\n      <td>2.532500</td>\n      <td>8.170000</td>\n      <td>74.800000</td>\n      <td>3040.000000</td>\n    </tr>\n    <tr>\n      <th>max</th>\n      <td>7890.000000</td>\n      <td>0.178000</td>\n      <td>1.400000e+09</td>\n      <td>17.600000</td>\n      <td>87.700000</td>\n      <td>84.200000</td>\n      <td>22100.000000</td>\n    </tr>\n  </tbody>\n</table>\n</div>"
     },
     "metadata": {},
     "execution_count": 4
    }
   ],
   "source": [
    "merged_data.describe()"
   ]
  },
  {
   "source": [
    "## PASO 6: Preprocesamiento de datos.\n",
    "        1) Generamos el objeto que realiza la normalización a través de Sklearn.\n",
    "        2) Normalización de los datos y visualizamos."
   ],
   "cell_type": "markdown",
   "metadata": {}
  },
  {
   "cell_type": "code",
   "execution_count": 5,
   "metadata": {},
   "outputs": [],
   "source": [
    "from sklearn.preprocessing import MinMaxScaler\n",
    "#Generar un objeto de escalado\n",
    "scaler = MinMaxScaler()"
   ]
  },
  {
   "cell_type": "code",
   "execution_count": 12,
   "metadata": {},
   "outputs": [
    {
     "output_type": "execute_result",
     "data": {
      "text/plain": [
       "                population_density  urban_growth  population  \\\n",
       "country_year                                                   \n",
       "Australia_1961            0.000015      0.370218    0.007390   \n",
       "Austria_1961              0.010782      0.296339    0.005040   \n",
       "Belgium_1961              0.038505      0.285644    0.006554   \n",
       "Canada_1961               0.000098      0.386261    0.012962   \n",
       "Denmark_1961              0.013660      0.336898    0.003254   \n",
       "\n",
       "                population_growth  co2_emissions  life_expectancy  \\\n",
       "country_year                                                        \n",
       "Australia_1961           0.414918       0.098812         0.752418   \n",
       "Austria_1961             0.360870       0.051033         0.725338   \n",
       "Belgium_1961             0.352774       0.115118         0.736944   \n",
       "Canada_1961              0.415292       0.120820         0.750484   \n",
       "Denmark_1961             0.366492       0.078400         0.769826   \n",
       "\n",
       "                energy_ratio  \n",
       "country_year                  \n",
       "Australia_1961      0.140805  \n",
       "Austria_1961        0.069734  \n",
       "Belgium_1961        0.115908  \n",
       "Canada_1961         0.194675  \n",
       "Denmark_1961        0.091010  "
      ],
      "text/html": "<div>\n<style scoped>\n    .dataframe tbody tr th:only-of-type {\n        vertical-align: middle;\n    }\n\n    .dataframe tbody tr th {\n        vertical-align: top;\n    }\n\n    .dataframe thead th {\n        text-align: right;\n    }\n</style>\n<table border=\"1\" class=\"dataframe\">\n  <thead>\n    <tr style=\"text-align: right;\">\n      <th></th>\n      <th>population_density</th>\n      <th>urban_growth</th>\n      <th>population</th>\n      <th>population_growth</th>\n      <th>co2_emissions</th>\n      <th>life_expectancy</th>\n      <th>energy_ratio</th>\n    </tr>\n    <tr>\n      <th>country_year</th>\n      <th></th>\n      <th></th>\n      <th></th>\n      <th></th>\n      <th></th>\n      <th></th>\n      <th></th>\n    </tr>\n  </thead>\n  <tbody>\n    <tr>\n      <th>Australia_1961</th>\n      <td>0.000015</td>\n      <td>0.370218</td>\n      <td>0.007390</td>\n      <td>0.414918</td>\n      <td>0.098812</td>\n      <td>0.752418</td>\n      <td>0.140805</td>\n    </tr>\n    <tr>\n      <th>Austria_1961</th>\n      <td>0.010782</td>\n      <td>0.296339</td>\n      <td>0.005040</td>\n      <td>0.360870</td>\n      <td>0.051033</td>\n      <td>0.725338</td>\n      <td>0.069734</td>\n    </tr>\n    <tr>\n      <th>Belgium_1961</th>\n      <td>0.038505</td>\n      <td>0.285644</td>\n      <td>0.006554</td>\n      <td>0.352774</td>\n      <td>0.115118</td>\n      <td>0.736944</td>\n      <td>0.115908</td>\n    </tr>\n    <tr>\n      <th>Canada_1961</th>\n      <td>0.000098</td>\n      <td>0.386261</td>\n      <td>0.012962</td>\n      <td>0.415292</td>\n      <td>0.120820</td>\n      <td>0.750484</td>\n      <td>0.194675</td>\n    </tr>\n    <tr>\n      <th>Denmark_1961</th>\n      <td>0.013660</td>\n      <td>0.336898</td>\n      <td>0.003254</td>\n      <td>0.366492</td>\n      <td>0.078400</td>\n      <td>0.769826</td>\n      <td>0.091010</td>\n    </tr>\n  </tbody>\n</table>\n</div>"
     },
     "metadata": {},
     "execution_count": 12
    }
   ],
   "source": [
    "#Creamos el nuevo DataFrame y le aplicamos la normalización. \n",
    "scaled_data = merged_data.copy()\n",
    "scaled_data[scaled_data.columns] = scaler.fit_transform(merged_data[merged_data.columns])\n",
    "\n",
    "#Visualizamos el resultado. \n",
    "scaled_data.head()"
   ]
  },
  {
   "cell_type": "code",
   "execution_count": 19,
   "metadata": {},
   "outputs": [
    {
     "output_type": "stream",
     "name": "stdout",
     "text": [
      "<class 'pandas.core.frame.DataFrame'>\nIndex: 5880 entries, Australia_1961 to United States_2015\nData columns (total 7 columns):\n #   Column              Non-Null Count  Dtype  \n---  ------              --------------  -----  \n 0   population_density  5880 non-null   float64\n 1   urban_growth        5880 non-null   float64\n 2   population          5880 non-null   float64\n 3   population_growth   5880 non-null   float64\n 4   co2_emissions       5880 non-null   float64\n 5   life_expectancy     5880 non-null   float64\n 6   energy_ratio        5880 non-null   float64\ndtypes: float64(7)\nmemory usage: 367.5+ KB\n"
     ]
    }
   ],
   "source": [
    "scaled_data.info()"
   ]
  },
  {
   "source": [
    "## PASO 7: Elección y generación del modelo de Machine Learning.\n",
    "        1) Separar las variables predictoras X y la variable objetivo y.\n",
    "        2) Dividir el Dataset en 2 partes:\n",
    "            Train: parte del dataset que se utilizará para llevar a cabo el entrenamiento del modelo de ML. (70%)\n",
    "            Test: parte del dataset que se utilizará para, una vez entrenado, probar la eficacia del modelo de ML en la predicción. (30%)\n",
    "\n",
    "        3) Elegimos el modelo ---> Regresión Logistica: Importamos desde skalearn y generamos el objeto.  \n",
    "        4) Reordenación final del DataFrame."
   ],
   "cell_type": "markdown",
   "metadata": {}
  },
  {
   "cell_type": "code",
   "execution_count": 13,
   "metadata": {},
   "outputs": [],
   "source": [
    "#Separación de variables predictoras y variable objetivo.\n",
    "X, y = scaled_data[[\"population_density\",\"urban_growth\",\"population\",\"population_growth\",\"co2_emissions\",\"life_expectancy\"]].values, scaled_data[\"energy_ratio\"].values"
   ]
  },
  {
   "cell_type": "code",
   "execution_count": 15,
   "metadata": {},
   "outputs": [
    {
     "output_type": "stream",
     "name": "stdout",
     "text": [
      "Número de datos en Train: 4116 rows\nNúmero de datos en Test: 1764 rows\n"
     ]
    }
   ],
   "source": [
    "from sklearn.model_selection import train_test_split\n",
    "\n",
    "#División del Dataset en Train y Test, con proporción 70-30\n",
    "X_train, X_test, y_train, y_test = train_test_split(X, y, test_size = 0.30, random_state = 42)\n",
    "\n",
    "print(\"Número de datos en Train: %d rows\\nNúmero de datos en Test: %d rows\" % (X_train.shape[0], X_test.shape[0]))"
   ]
  },
  {
   "cell_type": "code",
   "execution_count": 32,
   "metadata": {},
   "outputs": [
    {
     "output_type": "stream",
     "name": "stdout",
     "text": [
      "Pendiente de la recta: 0.003431\nCoeficientes de la recta: [ 0.01497243 -0.03045922 -0.01783222 -0.07358837  1.06977535  0.09571358]\n"
     ]
    }
   ],
   "source": [
    "from sklearn.linear_model import LinearRegression\n",
    "#Creamos el algoritmo de tipo Regresión Lineal\n",
    "model = LinearRegression(n_jobs = -1)\n",
    "\n",
    "#Entrenamos el modelos con los datos\n",
    "model.fit(X = X_train, y = y_train)\n",
    "\n",
    "#Obtenemos los parámetros de nuestra Regresión Lineal\n",
    "print(\"Pendiente de la recta: \" + str(round(model.intercept_,6)))\n",
    "print(\"Coeficientes de la recta: \" + str(model.coef_)) "
   ]
  },
  {
   "cell_type": "code",
   "execution_count": null,
   "metadata": {},
   "outputs": [],
   "source": []
  }
 ]
}