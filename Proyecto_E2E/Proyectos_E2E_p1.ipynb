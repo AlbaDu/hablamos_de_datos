{
 "metadata": {
  "language_info": {
   "codemirror_mode": {
    "name": "ipython",
    "version": 3
   },
   "file_extension": ".py",
   "mimetype": "text/x-python",
   "name": "python",
   "nbconvert_exporter": "python",
   "pygments_lexer": "ipython3",
   "version": "3.7.6-final"
  },
  "orig_nbformat": 2,
  "kernelspec": {
   "name": "python3",
   "display_name": "Python 3",
   "language": "python"
  }
 },
 "nbformat": 4,
 "nbformat_minor": 2,
 "cells": [
  {
   "source": [
    "## PASO 1: Plantear la pregunta.\n",
    "        ¿Puede predecirse el consumo energético de un país en función de su población y su nivel de industrialización?\n",
    "## PASOS 2 y 3: Concretar y buscar los datos necesarios.\n",
    "        Cargamos los ficheros .csv utilizando las librerías y funciones correspondientes.           "
   ],
   "cell_type": "markdown",
   "metadata": {}
  },
  {
   "cell_type": "code",
   "execution_count": 1,
   "metadata": {},
   "outputs": [],
   "source": [
    "import pandas as pd\n",
    "\n",
    "#Ficheros de datos\n",
    "pop_den = pd.read_csv(\"Datos\\\\population_density.csv\")\n",
    "urb_gro = pd.read_csv(\"Datos\\\\urban_growth.csv\")\n",
    "pop = pd.read_csv(\"Datos\\\\population.csv\")\n",
    "pop_gro = pd.read_csv(\"Datos\\\\population_growth.csv\")\n",
    "life_exp = pd.read_csv(\"Datos\\\\life_expectancy.csv\")\n",
    "co2_emi = pd.read_csv(\"Datos\\\\co2_emissions.csv\")\n",
    "\n",
    "#Fichero de comprobación\n",
    "target = pd.read_csv(\"Datos\\\\energy_person_ratio.csv\")"
   ]
  },
  {
   "source": [
    "## PASOS 4 y 5: Limpieza y exploración de los datos..\n",
    "        1) Transponemos las tablas utilizando la función data.melt_df().\n",
    "        2) Juntamos las tablas mediante la función data.merge_all(), describiendo nuestro propio diccionario.\n",
    "        3) Visualizamos la información básica de nuestra tabla global mediante las funciones .head() y .describe() "
   ],
   "cell_type": "markdown",
   "metadata": {}
  },
  {
   "cell_type": "code",
   "execution_count": 2,
   "metadata": {},
   "outputs": [],
   "source": [
    "import data #data es una librería de funciones propias que nos permiten unir y transponer los dataframes anteriores de manera fácil y rápida (Si quieres profundizar, abre el fichero data.py) \n",
    "pop_den_melt = data.melt_df(pop_den, \"population_density\")\n",
    "urb_gro_melt = data.melt_df(urb_gro, \"urban_growth\")\n",
    "pop_melt = data.melt_df(pop, \"population\")\n",
    "pop_gro_melt = data.melt_df(pop_gro, \"population_growth\")\n",
    "co2_emi_melt = data.melt_df(co2_emi, \"co2_emissions\")\n",
    "life_exp_melt = data.melt_df(life_exp, \"life_expectancy\")\n",
    "\n",
    "target_melt = data.melt_df(target, \"target\")"
   ]
  },
  {
   "cell_type": "code",
   "execution_count": 41,
   "metadata": {},
   "outputs": [],
   "source": [
    "#Describimos un objeto tipo diccionario feature_dict, que usaremos como argumento en la función data.merge_all()\n",
    "feature_dict = {\"pop_den_melt\":pop_den_melt, \"urb_gro_melt\": urb_gro_melt, \"pop_melt\": pop_melt, \"pop_gro_melt\": pop_gro_melt, \"co2_emi_melt\": co2_emi_melt, \"life_exp_melt\": life_exp_melt, \"target\":target_melt}\n",
    "\n",
    "merged_data = data.merge_all(feature_dict = feature_dict, keys = [\"country\", \"year\"]).reset_index(drop=True)"
   ]
  },
  {
   "cell_type": "code",
   "execution_count": 42,
   "metadata": {},
   "outputs": [
    {
     "output_type": "execute_result",
     "data": {
      "text/plain": [
       "     country  year  population_density  urban_growth  population  \\\n",
       "0  Australia  1961                1.36       0.02490  10400000.0   \n",
       "1    Austria  1961               86.30       0.00694   7110000.0   \n",
       "2    Belgium  1961              305.00       0.00434   9230000.0   \n",
       "3     Canada  1961                2.01       0.02880  18200000.0   \n",
       "4    Denmark  1961              109.00       0.01680   4610000.0   \n",
       "\n",
       "   population_growth  co2_emissions  life_expectancy  target  \n",
       "0              1.990           8.67             71.4  3120.0  \n",
       "1              0.548           4.48             70.0  1550.0  \n",
       "2              0.332          10.10             70.6  2570.0  \n",
       "3              2.000          10.60             71.3  4310.0  \n",
       "4              0.698           6.88             72.3  2020.0  "
      ],
      "text/html": "<div>\n<style scoped>\n    .dataframe tbody tr th:only-of-type {\n        vertical-align: middle;\n    }\n\n    .dataframe tbody tr th {\n        vertical-align: top;\n    }\n\n    .dataframe thead th {\n        text-align: right;\n    }\n</style>\n<table border=\"1\" class=\"dataframe\">\n  <thead>\n    <tr style=\"text-align: right;\">\n      <th></th>\n      <th>country</th>\n      <th>year</th>\n      <th>population_density</th>\n      <th>urban_growth</th>\n      <th>population</th>\n      <th>population_growth</th>\n      <th>co2_emissions</th>\n      <th>life_expectancy</th>\n      <th>target</th>\n    </tr>\n  </thead>\n  <tbody>\n    <tr>\n      <th>0</th>\n      <td>Australia</td>\n      <td>1961</td>\n      <td>1.36</td>\n      <td>0.02490</td>\n      <td>10400000.0</td>\n      <td>1.990</td>\n      <td>8.67</td>\n      <td>71.4</td>\n      <td>3120.0</td>\n    </tr>\n    <tr>\n      <th>1</th>\n      <td>Austria</td>\n      <td>1961</td>\n      <td>86.30</td>\n      <td>0.00694</td>\n      <td>7110000.0</td>\n      <td>0.548</td>\n      <td>4.48</td>\n      <td>70.0</td>\n      <td>1550.0</td>\n    </tr>\n    <tr>\n      <th>2</th>\n      <td>Belgium</td>\n      <td>1961</td>\n      <td>305.00</td>\n      <td>0.00434</td>\n      <td>9230000.0</td>\n      <td>0.332</td>\n      <td>10.10</td>\n      <td>70.6</td>\n      <td>2570.0</td>\n    </tr>\n    <tr>\n      <th>3</th>\n      <td>Canada</td>\n      <td>1961</td>\n      <td>2.01</td>\n      <td>0.02880</td>\n      <td>18200000.0</td>\n      <td>2.000</td>\n      <td>10.60</td>\n      <td>71.3</td>\n      <td>4310.0</td>\n    </tr>\n    <tr>\n      <th>4</th>\n      <td>Denmark</td>\n      <td>1961</td>\n      <td>109.00</td>\n      <td>0.01680</td>\n      <td>4610000.0</td>\n      <td>0.698</td>\n      <td>6.88</td>\n      <td>72.3</td>\n      <td>2020.0</td>\n    </tr>\n  </tbody>\n</table>\n</div>"
     },
     "metadata": {},
     "execution_count": 42
    }
   ],
   "source": [
    "merged_data.head()"
   ]
  },
  {
   "cell_type": "code",
   "execution_count": 43,
   "metadata": {},
   "outputs": [
    {
     "output_type": "execute_result",
     "data": {
      "text/plain": [
       "       population_density  urban_growth    population  population_growth  \\\n",
       "count         5880.000000   5880.000000  5.880000e+03        5880.000000   \n",
       "mean           151.510255      0.025590  4.028536e+07           1.651167   \n",
       "std            467.544295      0.022368  1.336053e+08           1.616812   \n",
       "min              1.240000     -0.065100  5.450000e+04          -9.080000   \n",
       "25%             21.800000      0.009955  3.700000e+06           0.584000   \n",
       "50%             65.800000      0.022500  9.825000e+06           1.510000   \n",
       "75%            128.000000      0.038400  2.972500e+07           2.532500   \n",
       "max           7890.000000      0.178000  1.400000e+09          17.600000   \n",
       "\n",
       "       co2_emissions  life_expectancy        target  \n",
       "count    5880.000000      5880.000000   5880.000000  \n",
       "mean        5.871009        68.819014   2242.902859  \n",
       "std         7.943471         8.406140   2630.882603  \n",
       "min         0.004650        32.500000      9.550000  \n",
       "25%         0.838500        63.900000    505.750000  \n",
       "50%         3.360000        70.900000   1180.000000  \n",
       "75%         8.170000        74.800000   3040.000000  \n",
       "max        87.700000        84.200000  22100.000000  "
      ],
      "text/html": "<div>\n<style scoped>\n    .dataframe tbody tr th:only-of-type {\n        vertical-align: middle;\n    }\n\n    .dataframe tbody tr th {\n        vertical-align: top;\n    }\n\n    .dataframe thead th {\n        text-align: right;\n    }\n</style>\n<table border=\"1\" class=\"dataframe\">\n  <thead>\n    <tr style=\"text-align: right;\">\n      <th></th>\n      <th>population_density</th>\n      <th>urban_growth</th>\n      <th>population</th>\n      <th>population_growth</th>\n      <th>co2_emissions</th>\n      <th>life_expectancy</th>\n      <th>target</th>\n    </tr>\n  </thead>\n  <tbody>\n    <tr>\n      <th>count</th>\n      <td>5880.000000</td>\n      <td>5880.000000</td>\n      <td>5.880000e+03</td>\n      <td>5880.000000</td>\n      <td>5880.000000</td>\n      <td>5880.000000</td>\n      <td>5880.000000</td>\n    </tr>\n    <tr>\n      <th>mean</th>\n      <td>151.510255</td>\n      <td>0.025590</td>\n      <td>4.028536e+07</td>\n      <td>1.651167</td>\n      <td>5.871009</td>\n      <td>68.819014</td>\n      <td>2242.902859</td>\n    </tr>\n    <tr>\n      <th>std</th>\n      <td>467.544295</td>\n      <td>0.022368</td>\n      <td>1.336053e+08</td>\n      <td>1.616812</td>\n      <td>7.943471</td>\n      <td>8.406140</td>\n      <td>2630.882603</td>\n    </tr>\n    <tr>\n      <th>min</th>\n      <td>1.240000</td>\n      <td>-0.065100</td>\n      <td>5.450000e+04</td>\n      <td>-9.080000</td>\n      <td>0.004650</td>\n      <td>32.500000</td>\n      <td>9.550000</td>\n    </tr>\n    <tr>\n      <th>25%</th>\n      <td>21.800000</td>\n      <td>0.009955</td>\n      <td>3.700000e+06</td>\n      <td>0.584000</td>\n      <td>0.838500</td>\n      <td>63.900000</td>\n      <td>505.750000</td>\n    </tr>\n    <tr>\n      <th>50%</th>\n      <td>65.800000</td>\n      <td>0.022500</td>\n      <td>9.825000e+06</td>\n      <td>1.510000</td>\n      <td>3.360000</td>\n      <td>70.900000</td>\n      <td>1180.000000</td>\n    </tr>\n    <tr>\n      <th>75%</th>\n      <td>128.000000</td>\n      <td>0.038400</td>\n      <td>2.972500e+07</td>\n      <td>2.532500</td>\n      <td>8.170000</td>\n      <td>74.800000</td>\n      <td>3040.000000</td>\n    </tr>\n    <tr>\n      <th>max</th>\n      <td>7890.000000</td>\n      <td>0.178000</td>\n      <td>1.400000e+09</td>\n      <td>17.600000</td>\n      <td>87.700000</td>\n      <td>84.200000</td>\n      <td>22100.000000</td>\n    </tr>\n  </tbody>\n</table>\n</div>"
     },
     "metadata": {},
     "execution_count": 43
    }
   ],
   "source": [
    "merged_data.describe()"
   ]
  },
  {
   "source": [
    "## PASO 6: Preprocesamiento de datos.\n",
    "        1) Generamos el objeto que realiza la normalización a través de Sklearn.\n",
    "        2) Normalización de los datos.\n",
    "        3) Visualización de los mismos.  \n",
    "        4) Reordenación final del DataFrame."
   ],
   "cell_type": "markdown",
   "metadata": {}
  },
  {
   "cell_type": "code",
   "execution_count": 45,
   "metadata": {},
   "outputs": [],
   "source": [
    "from sklearn.preprocessing import MinMaxScaler\n",
    "#Generar un objeto de escalado\n",
    "scaler = MinMaxScaler()"
   ]
  },
  {
   "cell_type": "code",
   "execution_count": 65,
   "metadata": {},
   "outputs": [
    {
     "output_type": "execute_result",
     "data": {
      "text/plain": [
       "     country  year  population_density  urban_growth  population  \\\n",
       "0  Australia  1961            0.000015      0.370218    0.007390   \n",
       "1    Austria  1961            0.010782      0.296339    0.005040   \n",
       "2    Belgium  1961            0.038505      0.285644    0.006554   \n",
       "3     Canada  1961            0.000098      0.386261    0.012962   \n",
       "4    Denmark  1961            0.013660      0.336898    0.003254   \n",
       "\n",
       "   population_growth  co2_emissions  life_expectancy    target  \n",
       "0           0.414918       0.098812         0.752418  0.140805  \n",
       "1           0.360870       0.051033         0.725338  0.069734  \n",
       "2           0.352774       0.115118         0.736944  0.115908  \n",
       "3           0.415292       0.120820         0.750484  0.194675  \n",
       "4           0.366492       0.078400         0.769826  0.091010  "
      ],
      "text/html": "<div>\n<style scoped>\n    .dataframe tbody tr th:only-of-type {\n        vertical-align: middle;\n    }\n\n    .dataframe tbody tr th {\n        vertical-align: top;\n    }\n\n    .dataframe thead th {\n        text-align: right;\n    }\n</style>\n<table border=\"1\" class=\"dataframe\">\n  <thead>\n    <tr style=\"text-align: right;\">\n      <th></th>\n      <th>country</th>\n      <th>year</th>\n      <th>population_density</th>\n      <th>urban_growth</th>\n      <th>population</th>\n      <th>population_growth</th>\n      <th>co2_emissions</th>\n      <th>life_expectancy</th>\n      <th>target</th>\n    </tr>\n  </thead>\n  <tbody>\n    <tr>\n      <th>0</th>\n      <td>Australia</td>\n      <td>1961</td>\n      <td>0.000015</td>\n      <td>0.370218</td>\n      <td>0.007390</td>\n      <td>0.414918</td>\n      <td>0.098812</td>\n      <td>0.752418</td>\n      <td>0.140805</td>\n    </tr>\n    <tr>\n      <th>1</th>\n      <td>Austria</td>\n      <td>1961</td>\n      <td>0.010782</td>\n      <td>0.296339</td>\n      <td>0.005040</td>\n      <td>0.360870</td>\n      <td>0.051033</td>\n      <td>0.725338</td>\n      <td>0.069734</td>\n    </tr>\n    <tr>\n      <th>2</th>\n      <td>Belgium</td>\n      <td>1961</td>\n      <td>0.038505</td>\n      <td>0.285644</td>\n      <td>0.006554</td>\n      <td>0.352774</td>\n      <td>0.115118</td>\n      <td>0.736944</td>\n      <td>0.115908</td>\n    </tr>\n    <tr>\n      <th>3</th>\n      <td>Canada</td>\n      <td>1961</td>\n      <td>0.000098</td>\n      <td>0.386261</td>\n      <td>0.012962</td>\n      <td>0.415292</td>\n      <td>0.120820</td>\n      <td>0.750484</td>\n      <td>0.194675</td>\n    </tr>\n    <tr>\n      <th>4</th>\n      <td>Denmark</td>\n      <td>1961</td>\n      <td>0.013660</td>\n      <td>0.336898</td>\n      <td>0.003254</td>\n      <td>0.366492</td>\n      <td>0.078400</td>\n      <td>0.769826</td>\n      <td>0.091010</td>\n    </tr>\n  </tbody>\n</table>\n</div>"
     },
     "metadata": {},
     "execution_count": 65
    }
   ],
   "source": [
    "#Creamos un DataFrame nuevo sobre el que normalizaremos los datos\n",
    "scaled_data = merged_data.copy()\n",
    "\n",
    "#Aplicamos la normalización SOLO en las columnas que lo necesitan. El resto se mantienen igual.\n",
    "scaled_data[[\"population_density\",\"urban_growth\",\"population\",\"population_growth\",\"co2_emissions\",\"life_expectancy\", \"target\"]] = scaler.fit_transform(scaled_data[[\"population_density\",\"urban_growth\",\"population\",\"population_growth\",\"co2_emissions\",\"life_expectancy\",\"target\"]])\n",
    "\n",
    "#Visualizamos los datos normalizados. \n",
    "scaled_data.head()"
   ]
  },
  {
   "cell_type": "code",
   "execution_count": 68,
   "metadata": {},
   "outputs": [
    {
     "output_type": "execute_result",
     "data": {
      "text/plain": [
       "                population_density  urban_growth  population  \\\n",
       "country_year                                                   \n",
       "Australia_1961            0.000015      0.370218    0.007390   \n",
       "Austria_1961              0.010782      0.296339    0.005040   \n",
       "Belgium_1961              0.038505      0.285644    0.006554   \n",
       "Canada_1961               0.000098      0.386261    0.012962   \n",
       "Denmark_1961              0.013660      0.336898    0.003254   \n",
       "\n",
       "                population_growth  co2_emissions  life_expectancy    target  \n",
       "country_year                                                                 \n",
       "Australia_1961           0.414918       0.098812         0.752418  0.140805  \n",
       "Austria_1961             0.360870       0.051033         0.725338  0.069734  \n",
       "Belgium_1961             0.352774       0.115118         0.736944  0.115908  \n",
       "Canada_1961              0.415292       0.120820         0.750484  0.194675  \n",
       "Denmark_1961             0.366492       0.078400         0.769826  0.091010  "
      ],
      "text/html": "<div>\n<style scoped>\n    .dataframe tbody tr th:only-of-type {\n        vertical-align: middle;\n    }\n\n    .dataframe tbody tr th {\n        vertical-align: top;\n    }\n\n    .dataframe thead th {\n        text-align: right;\n    }\n</style>\n<table border=\"1\" class=\"dataframe\">\n  <thead>\n    <tr style=\"text-align: right;\">\n      <th></th>\n      <th>population_density</th>\n      <th>urban_growth</th>\n      <th>population</th>\n      <th>population_growth</th>\n      <th>co2_emissions</th>\n      <th>life_expectancy</th>\n      <th>target</th>\n    </tr>\n    <tr>\n      <th>country_year</th>\n      <th></th>\n      <th></th>\n      <th></th>\n      <th></th>\n      <th></th>\n      <th></th>\n      <th></th>\n    </tr>\n  </thead>\n  <tbody>\n    <tr>\n      <th>Australia_1961</th>\n      <td>0.000015</td>\n      <td>0.370218</td>\n      <td>0.007390</td>\n      <td>0.414918</td>\n      <td>0.098812</td>\n      <td>0.752418</td>\n      <td>0.140805</td>\n    </tr>\n    <tr>\n      <th>Austria_1961</th>\n      <td>0.010782</td>\n      <td>0.296339</td>\n      <td>0.005040</td>\n      <td>0.360870</td>\n      <td>0.051033</td>\n      <td>0.725338</td>\n      <td>0.069734</td>\n    </tr>\n    <tr>\n      <th>Belgium_1961</th>\n      <td>0.038505</td>\n      <td>0.285644</td>\n      <td>0.006554</td>\n      <td>0.352774</td>\n      <td>0.115118</td>\n      <td>0.736944</td>\n      <td>0.115908</td>\n    </tr>\n    <tr>\n      <th>Canada_1961</th>\n      <td>0.000098</td>\n      <td>0.386261</td>\n      <td>0.012962</td>\n      <td>0.415292</td>\n      <td>0.120820</td>\n      <td>0.750484</td>\n      <td>0.194675</td>\n    </tr>\n    <tr>\n      <th>Denmark_1961</th>\n      <td>0.013660</td>\n      <td>0.336898</td>\n      <td>0.003254</td>\n      <td>0.366492</td>\n      <td>0.078400</td>\n      <td>0.769826</td>\n      <td>0.091010</td>\n    </tr>\n  </tbody>\n</table>\n</div>"
     },
     "metadata": {},
     "execution_count": 68
    }
   ],
   "source": [
    "#Unimos Pais+Año y lo tomamos como indice del DataFrame y ya tenemos los datos listos para el siguiente paso\n",
    "scaled_data[\"country_year\"] = scaled_data[\"country\"] + \"_\" + scaled_data[\"year\"]\n",
    "scaled_data.set_index(\"country_year\", inplace = True)\n",
    "scaled_data.drop(columns=[\"country\", \"year\"], inplace = True)\n",
    "scaled_data.head()"
   ]
  },
  {
   "source": [
    "## PASO 7: Elección y generación del modelo de Machine Learning.\n",
    "        1) Generamos el objeto que realiza la normalización a través de Sklearn.\n",
    "        2) Normalización de los datos.\n",
    "        3) Visualización de los mismos.  \n",
    "        4) Reordenación final del DataFrame."
   ],
   "cell_type": "markdown",
   "metadata": {}
  }
 ]
}