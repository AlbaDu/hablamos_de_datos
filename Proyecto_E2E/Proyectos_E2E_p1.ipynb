{
 "metadata": {
  "language_info": {
   "codemirror_mode": {
    "name": "ipython",
    "version": 3
   },
   "file_extension": ".py",
   "mimetype": "text/x-python",
   "name": "python",
   "nbconvert_exporter": "python",
   "pygments_lexer": "ipython3",
   "version": "3.9.0-final"
  },
  "orig_nbformat": 2,
  "kernelspec": {
   "name": "python3",
   "display_name": "Python 3.9.0 64-bit",
   "metadata": {
    "interpreter": {
     "hash": "2475d6245a592878725d4384023842617923001cc03e07ab60580c5fb01fa30c"
    }
   }
  }
 },
 "nbformat": 4,
 "nbformat_minor": 2,
 "cells": [
  {
   "source": [
    "## PASO 1: Plantear la pregunta.\n",
    "        ¿Puede predecirse el consumo energético de un país en función de su población y su nivel de industrialización?\n",
    "## PASOS 2 y 3: Concretar y buscar los datos necesarios.\n",
    "        Cargamos los ficheros .csv utilizando las librerías y funciones correspondientes.           "
   ],
   "cell_type": "markdown",
   "metadata": {}
  },
  {
   "cell_type": "code",
   "execution_count": 1,
   "metadata": {},
   "outputs": [],
   "source": [
    "import pandas as pd\n",
    "\n",
    "#Ficheros de datos\n",
    "pop_den = pd.read_csv(\"population_density.csv\")\n",
    "urb_gro = pd.read_csv(\"urban_growth.csv\")\n",
    "pop = pd.read_csv(\"population.csv\")\n",
    "pop_gro = pd.read_csv(\"population_growth.csv\")\n",
    "life_exp = pd.read_csv(\"life_expectancy.csv\")\n",
    "co2_emi = pd.read_csv(\"co2_emissions.csv\")\n",
    "\n",
    "#Fichero de comprobación\n",
    "target = pd.read_csv(\"energy_person_ratio.csv\")"
   ]
  },
  {
   "source": [
    "## PASOS 4 y 5: Limpieza y exploración de los datos..\n",
    "        1) Transponemos las tablas utilizando la función data.melt_df().\n",
    "        2) Juntamos las tablas mediante la función data.merge_all(), describiendo nuestro propio diccionario.\n",
    "        3) Visualizamos la información básica de nuestra tabla global mediante las funciones .head() y .describe() "
   ],
   "cell_type": "markdown",
   "metadata": {}
  },
  {
   "cell_type": "code",
   "execution_count": 2,
   "metadata": {},
   "outputs": [],
   "source": [
    "import data #data es una librería de funciones propias que nos permiten unir y transponer los dataframes anteriores de manera fácil y rápida (Si quieres profundizar, abre el fichero data.py) \n",
    "pop_den_melt = data.melt_df(pop_den, \"population_density\")\n",
    "urb_gro_melt = data.melt_df(urb_gro, \"urban_growth\")\n",
    "pop_melt = data.melt_df(pop, \"population\")\n",
    "pop_gro_melt = data.melt_df(pop_gro, \"population_growth\")\n",
    "co2_emi_melt = data.melt_df(co2_emi, \"co2_emissions\")\n",
    "life_exp_melt = data.melt_df(life_exp, \"life_expectancy\")\n",
    "\n",
    "target_melt = data.melt_df(target, \"target\")"
   ]
  },
  {
   "cell_type": "code",
   "execution_count": 3,
   "metadata": {},
   "outputs": [],
   "source": [
    "#Describimos un objeto tipo diccionario feature_dict, que usaremos como argumento en la función data.merge_all()\n",
    "feature_dict = {\"pop_den_melt\":pop_den_melt, \"urb_gro_melt\": urb_gro_melt, \"pop_melt\": pop_melt, \"pop_gro_melt\": pop_gro_melt, \"co2_emi_melt\": co2_emi_melt, \"life_exp_melt\": life_exp_melt}\n",
    "\n",
    "merged_data = data.merge_all(feature_dict = feature_dict, keys = [\"country\", \"year\"])"
   ]
  },
  {
   "cell_type": "code",
   "execution_count": 4,
   "metadata": {},
   "outputs": [
    {
     "output_type": "execute_result",
     "data": {
      "text/plain": [
       "                  country  year  population_density  urban_growth  population  \\\n",
       "2145          Afghanistan  1961               14.00      0.052100     9170000   \n",
       "2146              Albania  1961               61.50      0.038900     1690000   \n",
       "2147              Algeria  1961                4.76      0.066200    11300000   \n",
       "2149               Angola  1961                4.44      0.048100     5530000   \n",
       "2150  Antigua and Barbuda  1961              125.00      0.000279       55000   \n",
       "\n",
       "      population_growth  co2_emissions  life_expectancy  \n",
       "2145               1.90         0.0536             40.0  \n",
       "2146               3.12         1.3500             63.3  \n",
       "2147               2.49         0.5350             53.1  \n",
       "2149               1.39         0.0821             41.1  \n",
       "2150               1.59         0.8670             63.8  "
      ],
      "text/html": "<div>\n<style scoped>\n    .dataframe tbody tr th:only-of-type {\n        vertical-align: middle;\n    }\n\n    .dataframe tbody tr th {\n        vertical-align: top;\n    }\n\n    .dataframe thead th {\n        text-align: right;\n    }\n</style>\n<table border=\"1\" class=\"dataframe\">\n  <thead>\n    <tr style=\"text-align: right;\">\n      <th></th>\n      <th>country</th>\n      <th>year</th>\n      <th>population_density</th>\n      <th>urban_growth</th>\n      <th>population</th>\n      <th>population_growth</th>\n      <th>co2_emissions</th>\n      <th>life_expectancy</th>\n    </tr>\n  </thead>\n  <tbody>\n    <tr>\n      <th>2145</th>\n      <td>Afghanistan</td>\n      <td>1961</td>\n      <td>14.00</td>\n      <td>0.052100</td>\n      <td>9170000</td>\n      <td>1.90</td>\n      <td>0.0536</td>\n      <td>40.0</td>\n    </tr>\n    <tr>\n      <th>2146</th>\n      <td>Albania</td>\n      <td>1961</td>\n      <td>61.50</td>\n      <td>0.038900</td>\n      <td>1690000</td>\n      <td>3.12</td>\n      <td>1.3500</td>\n      <td>63.3</td>\n    </tr>\n    <tr>\n      <th>2147</th>\n      <td>Algeria</td>\n      <td>1961</td>\n      <td>4.76</td>\n      <td>0.066200</td>\n      <td>11300000</td>\n      <td>2.49</td>\n      <td>0.5350</td>\n      <td>53.1</td>\n    </tr>\n    <tr>\n      <th>2149</th>\n      <td>Angola</td>\n      <td>1961</td>\n      <td>4.44</td>\n      <td>0.048100</td>\n      <td>5530000</td>\n      <td>1.39</td>\n      <td>0.0821</td>\n      <td>41.1</td>\n    </tr>\n    <tr>\n      <th>2150</th>\n      <td>Antigua and Barbuda</td>\n      <td>1961</td>\n      <td>125.00</td>\n      <td>0.000279</td>\n      <td>55000</td>\n      <td>1.59</td>\n      <td>0.8670</td>\n      <td>63.8</td>\n    </tr>\n  </tbody>\n</table>\n</div>"
     },
     "metadata": {},
     "execution_count": 4
    }
   ],
   "source": [
    "merged_data.head()"
   ]
  },
  {
   "cell_type": "code",
   "execution_count": 5,
   "metadata": {},
   "outputs": [
    {
     "output_type": "execute_result",
     "data": {
      "text/plain": [
       "       population_density  urban_growth    population  population_growth  \\\n",
       "count        10501.000000  10501.000000  1.050100e+04       10501.000000   \n",
       "mean           132.850914      0.030194  2.897746e+07           1.807020   \n",
       "std            406.795876      0.030978  1.120533e+08           1.576097   \n",
       "min              0.632000     -1.870000  4.220000e+04          -9.080000   \n",
       "25%             17.700000      0.013000  1.820000e+06           0.748000   \n",
       "50%             55.200000      0.027700  5.730000e+06           1.770000   \n",
       "75%            122.000000      0.043500  1.750000e+07           2.700000   \n",
       "max           8230.000000      0.489000  1.430000e+09          17.600000   \n",
       "\n",
       "       co2_emissions  life_expectancy  \n",
       "count   10501.000000     10501.000000  \n",
       "mean        4.482479        65.505327  \n",
       "std         7.341779        10.128384  \n",
       "min         0.000000         9.640000  \n",
       "25%         0.385000        58.300000  \n",
       "50%         1.730000        68.100000  \n",
       "75%         6.270000        73.200000  \n",
       "max       101.000000        85.000000  "
      ],
      "text/html": "<div>\n<style scoped>\n    .dataframe tbody tr th:only-of-type {\n        vertical-align: middle;\n    }\n\n    .dataframe tbody tr th {\n        vertical-align: top;\n    }\n\n    .dataframe thead th {\n        text-align: right;\n    }\n</style>\n<table border=\"1\" class=\"dataframe\">\n  <thead>\n    <tr style=\"text-align: right;\">\n      <th></th>\n      <th>population_density</th>\n      <th>urban_growth</th>\n      <th>population</th>\n      <th>population_growth</th>\n      <th>co2_emissions</th>\n      <th>life_expectancy</th>\n    </tr>\n  </thead>\n  <tbody>\n    <tr>\n      <th>count</th>\n      <td>10501.000000</td>\n      <td>10501.000000</td>\n      <td>1.050100e+04</td>\n      <td>10501.000000</td>\n      <td>10501.000000</td>\n      <td>10501.000000</td>\n    </tr>\n    <tr>\n      <th>mean</th>\n      <td>132.850914</td>\n      <td>0.030194</td>\n      <td>2.897746e+07</td>\n      <td>1.807020</td>\n      <td>4.482479</td>\n      <td>65.505327</td>\n    </tr>\n    <tr>\n      <th>std</th>\n      <td>406.795876</td>\n      <td>0.030978</td>\n      <td>1.120533e+08</td>\n      <td>1.576097</td>\n      <td>7.341779</td>\n      <td>10.128384</td>\n    </tr>\n    <tr>\n      <th>min</th>\n      <td>0.632000</td>\n      <td>-1.870000</td>\n      <td>4.220000e+04</td>\n      <td>-9.080000</td>\n      <td>0.000000</td>\n      <td>9.640000</td>\n    </tr>\n    <tr>\n      <th>25%</th>\n      <td>17.700000</td>\n      <td>0.013000</td>\n      <td>1.820000e+06</td>\n      <td>0.748000</td>\n      <td>0.385000</td>\n      <td>58.300000</td>\n    </tr>\n    <tr>\n      <th>50%</th>\n      <td>55.200000</td>\n      <td>0.027700</td>\n      <td>5.730000e+06</td>\n      <td>1.770000</td>\n      <td>1.730000</td>\n      <td>68.100000</td>\n    </tr>\n    <tr>\n      <th>75%</th>\n      <td>122.000000</td>\n      <td>0.043500</td>\n      <td>1.750000e+07</td>\n      <td>2.700000</td>\n      <td>6.270000</td>\n      <td>73.200000</td>\n    </tr>\n    <tr>\n      <th>max</th>\n      <td>8230.000000</td>\n      <td>0.489000</td>\n      <td>1.430000e+09</td>\n      <td>17.600000</td>\n      <td>101.000000</td>\n      <td>85.000000</td>\n    </tr>\n  </tbody>\n</table>\n</div>"
     },
     "metadata": {},
     "execution_count": 5
    }
   ],
   "source": [
    "merged_data.describe()"
   ]
  }
 ]
}